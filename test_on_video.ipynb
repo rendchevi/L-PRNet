{
 "cells": [
  {
   "cell_type": "markdown",
   "metadata": {},
   "source": [
    "## **L-PRNet - Test on Video Script**\n",
    "Rendi Chevi  \n",
    "https://github.com/rendchevi"
   ]
  },
  {
   "cell_type": "code",
   "execution_count": null,
   "metadata": {},
   "outputs": [],
   "source": [
    "from inference import LPRNet\n",
    "\n",
    "import tensorflow as tf\n",
    "import numpy as np\n",
    "import matplotlib.pyplot as plt\n",
    "\n",
    "from sys import stdout\n",
    "\n",
    "from moviepy.editor import VideoFileClip, ImageSequenceClip\n",
    "from skimage.io import imread\n",
    "from skimage.transform import resize"
   ]
  },
  {
   "cell_type": "code",
   "execution_count": null,
   "metadata": {},
   "outputs": [],
   "source": [
    "# Run this if you use GPU\n",
    "for device in tf.config.list_physical_devices('GPU'):\n",
    "    print('GPU Available: {}'.format(device))"
   ]
  },
  {
   "cell_type": "code",
   "execution_count": null,
   "metadata": {},
   "outputs": [],
   "source": [
    "# Run this if you're using GPU and your computer has memory limit issues\n",
    "physical_devices = tf.config.experimental.list_physical_devices('GPU')\n",
    "tf.config.experimental.set_memory_growth(physical_devices[0], True)"
   ]
  },
  {
   "cell_type": "code",
   "execution_count": null,
   "metadata": {},
   "outputs": [],
   "source": [
    "# Initiate L-PRNet model\n",
    "lprnet = LPRNet()"
   ]
  },
  {
   "cell_type": "code",
   "execution_count": null,
   "metadata": {},
   "outputs": [],
   "source": [
    "# Load video for testing\n",
    "vid_name = 'example.mp4'\n",
    "duration = 15 # in seconds\n",
    "vid = VideoFileClip('Input/{}'.format(vid_name))\n",
    "fps = vid.fps"
   ]
  },
  {
   "cell_type": "code",
   "execution_count": null,
   "metadata": {},
   "outputs": [],
   "source": [
    "# Iterate each frame\n",
    "frames = []\n",
    "for idx, frame in enumerate(vid.iter_frames()):\n",
    "    # Predict UV Map\n",
    "    uv_map = lprnet.predict_uv(frame)\n",
    "    # Reconstruct UV Map to 3D point cloud\n",
    "    pcl_frame, _ = lprnet.visualize_pcl(uv_map)\n",
    "    # Append to frames list\n",
    "    frames.append(pcl_frame)\n",
    "    # Record rendering progress\n",
    "    stdout.write('\\r[Progress] {} / {} Frame'.format(idx + 1, int(fps * duration)))\n",
    "    # Cut video if exceeds determined duration\n",
    "    if idx + 1 == fps * duration:\n",
    "        break"
   ]
  },
  {
   "cell_type": "code",
   "execution_count": null,
   "metadata": {},
   "outputs": [],
   "source": [
    "# Save new video\n",
    "ImageSequenceClip(frames, fps = fps).set_duration(duration).write_videofile('Output/{}'.format(vid_name), fps = fps)"
   ]
  },
  {
   "cell_type": "code",
   "execution_count": null,
   "metadata": {},
   "outputs": [],
   "source": []
  }
 ],
 "metadata": {
  "kernelspec": {
   "display_name": "rendchevi-gpu",
   "language": "python",
   "name": "rendchevi-gpu"
  },
  "language_info": {
   "codemirror_mode": {
    "name": "ipython",
    "version": 3
   },
   "file_extension": ".py",
   "mimetype": "text/x-python",
   "name": "python",
   "nbconvert_exporter": "python",
   "pygments_lexer": "ipython3",
   "version": "3.6.10"
  }
 },
 "nbformat": 4,
 "nbformat_minor": 4
}
